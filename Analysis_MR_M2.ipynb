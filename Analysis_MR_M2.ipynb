{
  "cells": [
    {
      "cell_type": "markdown",
      "metadata": {
        "id": "view-in-github",
        "colab_type": "text"
      },
      "source": [
        "<a href=\"https://colab.research.google.com/github/lcanoi/MachineLearning_NoFrameworks/blob/main/Analysis_MR_M2.ipynb\" target=\"_parent\"><img src=\"https://colab.research.google.com/assets/colab-badge.svg\" alt=\"Open In Colab\"/></a>"
      ]
    },
    {
      "cell_type": "markdown",
      "metadata": {
        "id": "bqzvJaBxZvjP"
      },
      "source": [
        "Momento de Retroalimentación: Módulo 2 Implementación de una técnica de aprendizaje máquina sin el uso de un framework.\n"
      ]
    },
    {
      "cell_type": "code",
      "execution_count": null,
      "metadata": {
        "colab": {
          "base_uri": "https://localhost:8080/"
        },
        "id": "fdz9jluRZoYc",
        "outputId": "5e980f6f-92ea-447b-b4a9-c93b0816655c"
      },
      "outputs": [
        {
          "name": "stdout",
          "output_type": "stream",
          "text": [
            "Mounted at /content/gdrive\n",
            "/content\n"
          ]
        }
      ],
      "source": [
        "from google.colab import drive\n",
        "\n",
        "drive.mount(\"/content/gdrive\")  \n",
        "!pwd  # show current path "
      ]
    },
    {
      "cell_type": "code",
      "execution_count": null,
      "metadata": {
        "colab": {
          "base_uri": "https://localhost:8080/"
        },
        "id": "UIQE4xHPaAQJ",
        "outputId": "42fd34cf-7d68-413f-d459-51858a9df2e5"
      },
      "outputs": [
        {
          "name": "stdout",
          "output_type": "stream",
          "text": [
            "/content/gdrive/MyDrive/Colab Notebooks/Data1\n",
            "adult.data  iris.data  iris.names  wine.data  wine.names\n"
          ]
        }
      ],
      "source": [
        "%cd \"/content/gdrive/MyDrive/Colab Notebooks/Data1\"\n",
        "!ls  # show current directory"
      ]
    },
    {
      "cell_type": "code",
      "execution_count": null,
      "metadata": {
        "colab": {
          "base_uri": "https://localhost:8080/"
        },
        "id": "R3DT52AaaBmB",
        "outputId": "53e9a1d8-558f-47f8-cebf-cfec15251a50"
      },
      "outputs": [
        {
          "name": "stdout",
          "output_type": "stream",
          "text": [
            "In:\n",
            "       f1    f2    f3    f4   f5    f6    f7    f8    f9   f10   f11   f12  \\\n",
            "0  14.23  1.71  2.43  15.6  127  2.80  3.06  0.28  2.29  5.64  1.04  3.92   \n",
            "1  13.20  1.78  2.14  11.2  100  2.65  2.76  0.26  1.28  4.38  1.05  3.40   \n",
            "2  13.16  2.36  2.67  18.6  101  2.80  3.24  0.30  2.81  5.68  1.03  3.17   \n",
            "3  14.37  1.95  2.50  16.8  113  3.85  3.49  0.24  2.18  7.80  0.86  3.45   \n",
            "4  13.24  2.59  2.87  21.0  118  2.80  2.69  0.39  1.82  4.32  1.04  2.93   \n",
            "\n",
            "    f13  \n",
            "0  1065  \n",
            "1  1050  \n",
            "2  1185  \n",
            "3  1480  \n",
            "4   735  \n",
            "(178, 13)\n",
            "Out: \n",
            " 0    1\n",
            "1    1\n",
            "2    1\n",
            "3    1\n",
            "4    1\n",
            "Name: output, dtype: int64\n",
            "(178,)\n"
          ]
        }
      ],
      "source": [
        "import pandas as pd\n",
        "\n",
        "wineColumns = [\"output\",'f1','f2','f3','f4','f5','f6','f7','f8','f9','f10','f11','f12','f13']\n",
        "df = pd.read_csv('wine.data', names=wineColumns)\n",
        "\n",
        "input = df[['f1','f2','f3','f4','f5','f6','f7','f8','f9','f10','f11','f12','f13']]\n",
        "output = df['output']\n",
        "\n",
        "print('In:\\n', input.head())\n",
        "print(input.shape)\n",
        "print('Out: \\n', output.head())\n",
        "print(output.shape)"
      ]
    },
    {
      "cell_type": "markdown",
      "metadata": {
        "id": "9SYr1eTrySZY"
      },
      "source": [
        "El número de entradas y salidas es fijo </br>\n",
        "En cada instancia de vino contamos con 13 entradas (f1-f13) y una salida (output) </br>\n",
        "Y contamos con 178 líneas de vinos"
      ]
    },
    {
      "cell_type": "code",
      "execution_count": null,
      "metadata": {
        "colab": {
          "base_uri": "https://localhost:8080/"
        },
        "id": "pI_GxYw1zDfe",
        "outputId": "9c0d06e6-10f0-46f5-db89-394103c851cc"
      },
      "outputs": [
        {
          "data": {
            "text/plain": [
              "output    0\n",
              "f1        0\n",
              "f2        0\n",
              "f3        0\n",
              "f4        0\n",
              "f5        0\n",
              "f6        0\n",
              "f7        0\n",
              "f8        0\n",
              "f9        0\n",
              "f10       0\n",
              "f11       0\n",
              "f12       0\n",
              "f13       0\n",
              "dtype: int64"
            ]
          },
          "execution_count": 4,
          "metadata": {},
          "output_type": "execute_result"
        }
      ],
      "source": [
        "df.isnull().sum()"
      ]
    },
    {
      "cell_type": "markdown",
      "metadata": {
        "id": "fu8mVMCH1DPK"
      },
      "source": [
        "Todos los datos son exactos y no hay valores nulos, por lo cual no es necesario hacer una limpieza adicional a la base de datos"
      ]
    },
    {
      "cell_type": "markdown",
      "metadata": {
        "id": "F8PlRvB04WCp"
      },
      "source": [
        "Ahora nos falta determinar\n",
        "\n",
        "\n",
        "1.   Número de Layers y Neuronas\n",
        "2.   Pesos de la Red Neuronal\n",
        "3.   Función de Activación\n",
        "4.   Función de Costo\n",
        "\n"
      ]
    },
    {
      "cell_type": "markdown",
      "metadata": {
        "id": "MJ4I-m2744Wi"
      },
      "source": [
        "Para la Función de Activación comenzaremos probando con sigmoid"
      ]
    },
    {
      "cell_type": "markdown",
      "metadata": {
        "id": "ZzulG43YyMx-"
      },
      "source": [
        "Siendo un problema de clasificación de vinos, para la Función de Costo se realizará Log-loss, informándonos de los outputs asignados a una clasificación correcta"
      ]
    },
    {
      "cell_type": "code",
      "execution_count": null,
      "metadata": {
        "colab": {
          "base_uri": "https://localhost:8080/"
        },
        "id": "QJfRGR3XM4yK",
        "outputId": "38ee3ce6-5220-4f92-ab63-996d5e67e83f"
      },
      "outputs": [
        {
          "data": {
            "text/plain": [
              "13"
            ]
          },
          "execution_count": 7,
          "metadata": {},
          "output_type": "execute_result"
        }
      ],
      "source": [
        "len(input.columns)"
      ]
    },
    {
      "cell_type": "markdown",
      "metadata": {
        "id": "z4fiAw-MMvp6"
      },
      "source": [
        "Contamos con 13 diferentes inputs, así que en nuestra capa de entrada contaremos con 13 neuronas"
      ]
    },
    {
      "cell_type": "code",
      "execution_count": null,
      "metadata": {
        "colab": {
          "base_uri": "https://localhost:8080/"
        },
        "id": "fjtajof-a2By",
        "outputId": "9670557a-b59e-4577-986d-9ae00f850d6c"
      },
      "outputs": [
        {
          "data": {
            "text/plain": [
              "array([1, 2, 3])"
            ]
          },
          "execution_count": 5,
          "metadata": {},
          "output_type": "execute_result"
        }
      ],
      "source": [
        "output.unique()"
      ]
    },
    {
      "cell_type": "markdown",
      "metadata": {
        "id": "Uwf_17L_L-rT"
      },
      "source": [
        "Existen 3 posibles clasificaciones para el vino (clasificación multi-clase), por lo cual en nuestra capa de salida contaremos con 3 neuronas"
      ]
    }
  ],
  "metadata": {
    "colab": {
      "name": "MomentoRetro_M2.ipynb",
      "provenance": [],
      "include_colab_link": true
    },
    "kernelspec": {
      "display_name": "Python 3.10.4 64-bit",
      "language": "python",
      "name": "python3"
    },
    "language_info": {
      "name": "python",
      "version": "3.10.4"
    },
    "vscode": {
      "interpreter": {
        "hash": "71124d1c67a53e10234d0517a0d95499fe806d0feef4c01c9260b743b98b34cd"
      }
    }
  },
  "nbformat": 4,
  "nbformat_minor": 0
}