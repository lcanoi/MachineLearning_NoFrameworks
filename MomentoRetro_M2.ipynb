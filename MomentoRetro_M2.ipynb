{
  "nbformat": 4,
  "nbformat_minor": 0,
  "metadata": {
    "colab": {
      "name": "MomentoRetro_M2.ipynb",
      "provenance": [],
      "authorship_tag": "ABX9TyMWV2HspNY8bEeLcI/3R5+N",
      "include_colab_link": true
    },
    "kernelspec": {
      "name": "python3",
      "display_name": "Python 3"
    },
    "language_info": {
      "name": "python"
    }
  },
  "cells": [
    {
      "cell_type": "markdown",
      "metadata": {
        "id": "view-in-github",
        "colab_type": "text"
      },
      "source": [
        "<a href=\"https://colab.research.google.com/github/lcanoi/MachineLearning_NoFrameworks/blob/main/MomentoRetro_M2.ipynb\" target=\"_parent\"><img src=\"https://colab.research.google.com/assets/colab-badge.svg\" alt=\"Open In Colab\"/></a>"
      ]
    },
    {
      "cell_type": "markdown",
      "source": [
        "Momento de Retroalimentación: Módulo 2 Implementación de una técnica de aprendizaje máquina sin el uso de un framework.\n"
      ],
      "metadata": {
        "id": "bqzvJaBxZvjP"
      }
    },
    {
      "cell_type": "code",
      "execution_count": 1,
      "metadata": {
        "colab": {
          "base_uri": "https://localhost:8080/"
        },
        "id": "fdz9jluRZoYc",
        "outputId": "5e980f6f-92ea-447b-b4a9-c93b0816655c"
      },
      "outputs": [
        {
          "output_type": "stream",
          "name": "stdout",
          "text": [
            "Mounted at /content/gdrive\n",
            "/content\n"
          ]
        }
      ],
      "source": [
        "from google.colab import drive\n",
        "\n",
        "drive.mount(\"/content/gdrive\")  \n",
        "!pwd  # show current path "
      ]
    },
    {
      "cell_type": "code",
      "source": [
        "%cd \"/content/gdrive/MyDrive/Colab Notebooks/Data1\"\n",
        "!ls  # show current directory"
      ],
      "metadata": {
        "colab": {
          "base_uri": "https://localhost:8080/"
        },
        "id": "UIQE4xHPaAQJ",
        "outputId": "42fd34cf-7d68-413f-d459-51858a9df2e5"
      },
      "execution_count": 2,
      "outputs": [
        {
          "output_type": "stream",
          "name": "stdout",
          "text": [
            "/content/gdrive/MyDrive/Colab Notebooks/Data1\n",
            "adult.data  iris.data  iris.names  wine.data  wine.names\n"
          ]
        }
      ]
    },
    {
      "cell_type": "code",
      "source": [
        "import pandas as pd\n",
        "\n",
        "wineColumns = [\"output\",'f1','f2','f3','f4','f5','f6','f7','f8','f9','f10','f11','f12','f13']\n",
        "df = pd.read_csv('wine.data', names=wineColumns)\n",
        "\n",
        "input = df[['f1','f2','f3','f4','f5','f6','f7','f8','f9','f10','f11','f12','f13']]\n",
        "output = df['output']\n",
        "\n",
        "print('In:\\n', input.head())\n",
        "print(input.shape)\n",
        "print('Out: \\n', output.head())\n",
        "print(output.shape)"
      ],
      "metadata": {
        "colab": {
          "base_uri": "https://localhost:8080/"
        },
        "id": "R3DT52AaaBmB",
        "outputId": "53e9a1d8-558f-47f8-cebf-cfec15251a50"
      },
      "execution_count": 3,
      "outputs": [
        {
          "output_type": "stream",
          "name": "stdout",
          "text": [
            "In:\n",
            "       f1    f2    f3    f4   f5    f6    f7    f8    f9   f10   f11   f12  \\\n",
            "0  14.23  1.71  2.43  15.6  127  2.80  3.06  0.28  2.29  5.64  1.04  3.92   \n",
            "1  13.20  1.78  2.14  11.2  100  2.65  2.76  0.26  1.28  4.38  1.05  3.40   \n",
            "2  13.16  2.36  2.67  18.6  101  2.80  3.24  0.30  2.81  5.68  1.03  3.17   \n",
            "3  14.37  1.95  2.50  16.8  113  3.85  3.49  0.24  2.18  7.80  0.86  3.45   \n",
            "4  13.24  2.59  2.87  21.0  118  2.80  2.69  0.39  1.82  4.32  1.04  2.93   \n",
            "\n",
            "    f13  \n",
            "0  1065  \n",
            "1  1050  \n",
            "2  1185  \n",
            "3  1480  \n",
            "4   735  \n",
            "(178, 13)\n",
            "Out: \n",
            " 0    1\n",
            "1    1\n",
            "2    1\n",
            "3    1\n",
            "4    1\n",
            "Name: output, dtype: int64\n",
            "(178,)\n"
          ]
        }
      ]
    },
    {
      "cell_type": "markdown",
      "source": [
        "El número de entradas y salidas es fijo </br>\n",
        "En cada instancia de vino contamos con 13 entradas (f1-f13) y una salida (output) </br>\n",
        "Y contamos con 178 líneas de vinos"
      ],
      "metadata": {
        "id": "9SYr1eTrySZY"
      }
    },
    {
      "cell_type": "code",
      "source": [
        "df.isnull().sum()"
      ],
      "metadata": {
        "id": "pI_GxYw1zDfe",
        "outputId": "9c0d06e6-10f0-46f5-db89-394103c851cc",
        "colab": {
          "base_uri": "https://localhost:8080/"
        }
      },
      "execution_count": 4,
      "outputs": [
        {
          "output_type": "execute_result",
          "data": {
            "text/plain": [
              "output    0\n",
              "f1        0\n",
              "f2        0\n",
              "f3        0\n",
              "f4        0\n",
              "f5        0\n",
              "f6        0\n",
              "f7        0\n",
              "f8        0\n",
              "f9        0\n",
              "f10       0\n",
              "f11       0\n",
              "f12       0\n",
              "f13       0\n",
              "dtype: int64"
            ]
          },
          "metadata": {},
          "execution_count": 4
        }
      ]
    },
    {
      "cell_type": "markdown",
      "source": [
        "Todos los datos son exactos y no hay valores nulos, por lo cual no es necesario hacer una limpieza adicional a la base de datos"
      ],
      "metadata": {
        "id": "fu8mVMCH1DPK"
      }
    },
    {
      "cell_type": "markdown",
      "source": [
        "Ahora nos falta determinar\n",
        "\n",
        "\n",
        "1.   Número de Layers y Neuronas\n",
        "2.   Pesos de la Red Neuronal\n",
        "3.   Función de Activación\n",
        "4.   Función de Costo\n",
        "\n"
      ],
      "metadata": {
        "id": "F8PlRvB04WCp"
      }
    },
    {
      "cell_type": "markdown",
      "source": [
        "Para la Función de Activación utilizaremos la Lineal:"
      ],
      "metadata": {
        "id": "MJ4I-m2744Wi"
      }
    },
    {
      "cell_type": "markdown",
      "source": [
        "![image.png](data:image/png;base64,iVBORw0KGgoAAAANSUhEUgAAAY0AAAEJCAYAAABohnsfAAAAAXNSR0IArs4c6QAAAARnQU1BAACxjwv8YQUAAAAJcEhZcwAADsMAAA7DAcdvqGQAAEf8SURBVHhe7Z0HfFvluf9/3nuveMfxSpxJ9l4kJKwAIQ2jQG9poaWMFm4H918KvRRoe2l72fPSFgqEhhEgAbLJTsiyM+wkjh2P2Em895THX7/XUqIosi1bki3bz5fPiaWjYyEfvef83ud5n+HQrgWCIAiCYAaOup+CIAiC0C0iGoIgCILZiGgIgiAIZiOiIQiCIJiNiIYgCIJgNiIagiAIgtmIaAiCIAhmI6IhCIIgmI2IhiAIgmA2IhqCIAiC2YhoCIJgkpJaDSobWnTPBKEDqT1lZT755BOUl5ejtbUVzc3NcHd3170iCD1Ho9HAwcEBzs7Ouj19Q5OzF9JdkuDg7o1whyqEVabDoa1V96owkDAcQ56envje975n0X1JRMPK/PrXv8b999+PoqIifPHFF3jwwQd1rwhCz9m0aRN8fHwwffp03Z6+YWdeLZ7cXoayxnYsivPCswuC4eHsoHtVGEjs2LEDTk5OmDVrFtauXYs777wTgYGBuld7joiGlXnkkUfw/PPPo6CgAO+88w6ee+453SuC0HM++ugjBAQEYMmSJbo9fcPb+87hkTWZaGppw38vjcPjC2Ph4iTe7IHIl19+qayM6667Dm+88QZWrFiB4OBg3as9R0aBjfDz81PKLgi9he7NqqoqeHt76/b0Da1t7fgur1oJRpiPK2YO94ezCMaAZcSIEYiLi9M9sxwZCTbC398fs2fP1j0ThJ7T1NSE6upq+Pr66vb0DRqtaGw7UwG6IKL83ZAc4glxTA1cEhISRDQGAjQHaW0IQm+h55gBFfRH9yUH8qtRUNkEB61SRPi6IdTHRfeKMBDhorc1A3JENHoA3QUXLlzAuXPn1AUtCIORr06Uobm1DR4ujlicHAhXcU0JBshoMBMKxrZt27Bq1Sq1wM0ZoCAMNmqbWrE3t0o7KQL83J2xRCsagmCIiIaZ0N00YcIEXHXVVUhNTUVbW5vuFUEYPJwoqkNeRaN6PDnaF1F+kmckXI6Ihpk4OjoiNDRUbbQ6BGEwsievCkW1HeN7RqwfXCU3QzBCRMPKnD9/Hi+//DLefPNNZGdn6/YKQs9xdXXFpEmTLErE6gl0Te3LrUaTpg1uzo5ICvWEE1fDhQFNSUkJ/vWvf+GFF17AgQMHdHt7j4iGlWEi1vXXX6+SsYYNG6bbKwg9x83NDTNmzLAoEasnlNVrcOR8rQq1HRfujRStaAgDH0Zxzp8/HzfeeKMKv7UUEQ0z4RpGZWWlyvSmeyonJweNjR2+X0MY2sZkmuHDh8PLy0u3VxB6DusFMbGvL+pOMaFvf341zlY0qpyMydE+iA2Q9YzBAC3W6OhoxMfHq0mtpYhomAlFIzc3FxkZGWpBfOvWraioqNC9Kgi2geOuL8K7KRoHz1ajQdMKJ0cHzIrzg4dr3+aHCAMDEQ0zYYIVlfrWW2/Fww8/jBtuuKHPfM3C0IQZ4Xv27EFpaaluj+1obGnDNyfL0KrVJ1dnRxU5JasZgilENMyErgJWG6WZp9/ocxYEW0E3KMO7+8KiPX6BobZN6vHoMC/E+ItrSjCNiIYg2Cl0S9XV1aGlxbaNkOj9OlhQjYbmjoTVJSMDVfSUIJhCRoYgDHFK65qxJ6caLW3t8HJ1wtWJAXAU35TQCSIagjDEKaxqwjGDUNv4II+OFwTBBCIagjDEYdmQnPJGOGrNi2mxvgj0lKq2QueIaAiCHcMADG62gusZ27MrVaitt6sjZjLU1kVCbYXOEdEQBDuFSVnTpk1DWFiYbo/10bS1YfPpcvWYFsaUaD9ZzxC6RERDEOwUisbEiRNt2rmPZdBzyhqVNcMM8GHScEnoBhENQbBTWFmZuUG2LCOyTbmm2uCiNS+uSQ6CizRcErpBRogg2DG2XM+gWDBqqrW9HQGezlicFCiuKaFbRDQEwU7RaDQ4evQoysrKdHusS3ZZA7JKG9TjseFeSAr2kNIhQreIaOhgYbiamhpVybazDFweU1VVpS5i1gUSBFvCMbZ7926biAZzMg6crcbpkg7RmBjpAy83iZoSukdEQ8fx48exZs0arF27VvUCNxYOPj906JA6ZtOmTfj888+VgAiCrdBPUmxRRqS5pR27cqpQr0JtnZDMhkvimxLMQERDx7fffquaJo0cOVIViTOuLFpfX4/169cjMjJSlUZPT09HYWFhn5StFgRr09zahtSCGvU4ys8NY4d5i2tKMAsRDS2c0VEARo8ejTFjxqhGSidPnrxMEBjJwoY4tbW1qK6uVs8Z1WLLhUpBsAUc1Wy2dLayw8U6MdoHo8KkYZhgHiIaWmj+s18Gu1p5eHjA09PzCj8yBYKWCK2QgwcPorW11WRnvuLiYrzzzjt49913VdMmQbA3OBnalFmOuuZW7aQHWJgQIOsZgxjeyz7++GO8+eab6v5lKSIaWmg1MFKFC4+8oCgiFA9DWKKaYrF06VJcd911SlgyMzOVlWIIE7HYj3fu3LkICQnR7RUE+6GuuQ2r04rR1NIGB+1/c0f4i2tqEMNcH1YWuPrqq1UbaksR0dBCK4MikZeXh/PnzytlZp/vkpIStXZBq4LiwMgqigIb/bNBDtc5jKFrix3+4uLipEe4YBEuLi7KXerv76/bYx0YZptV1oA27QQpLtAdkX7STGwww8oCMTExSEhIkB7h1oLrErQMvvjiC+VaioiIUJ35KCC0Lmh5UK2p1P/+97/x2muvKXcV10BkTUOwFewMOXv2bDVJsSaZJfWobuqIyFqYGCANl4QeIaNFx/Tp07FixQrccsstuPbaa5X7iabcggUL1IyPF/CSJUuwcuVKXH/99bjjjjtUJJWIhmAr6DallcGZorWgSyr9Qq36GejpjKUjg+AoY1joASIaOmhJpKSkKOshNDRUiYGfn5+yOHjx8nlgYKByF/A4up8oJoIwkCiv02BbVoUqiT4i0AMpYV7asa17URDMQETDAAqDftNj/NjUMYJgC+gWZeg3Q7ytxYniOhwurFWPRwR5qBwNQegJIhqCYKdQNLKyslRukLVYf7Ij1NbZ0QHjIrxVT3BB6AkiGoJgpzAM/MyZM1YTjZa2jvwM4uHiiPkJ/lqLWT0VBLMR0RAEO4U5QwzrpsVhDfLKG5Gr3SgUE6J8kBwqIeFCzxHREIQhwr68KtRpmAXugKsTA1ShQkHoKSIagjAEqG1qxa7cKuWiYjFbZoG7SlVboReIaAjCEOB8dZOqastQ22h/dxVu6yiiIfQCEQ1BsFNYdYAlaZgvZAkUiuMX6nC6pKPszfgIb4R4SY6R0DtENATBTmEVAha/tLTwJWtMpWtFo7KxVVWznRPnp6KnBKE3yMgRBDuFhTRZd8rSMiKatna1CE7x8Hd3xvRYP0lOFXqNiIYOfUl0bobNl4xhtVtzjhMEa2CNm/up4nqkF9Wpx1OifTFaGi4JFiCioYOd+zZu3Iivv/76Yjl0YxoaGrBr1y7VR3zLli1WzdQVBGM4BjkuOe4sYXdOJcrqO3I9roryga/W2hCE3iKioWPz5s0qkYr9MPi4pqajf7IeZufu27dP1QIKCwtT/TfE0hBsCcfc4cOHVV+X3lLb3IodZyrRoP1JFicFaK0X9VAQeoWIhhbe/E+dOoXx48djypQp6nlGRsZlosDOfZs2bVKRLGzAFBQUpBYqBcFW0AXKlsGmmn2Zy9mKJqQW1qK1rR2jQj21m7imBMsQ0dDCGR3XKsLDw1X/Am9vbxQVFele7YBCQbfVuXPn1Gvr169Xj42tjaqqKmzduhXbt2+3aIYoCByTFAzjlsI9gfkZ56qa1ONJUT5SoHAIQjf63r17lQeFkxBLEdHQwsVGzuoML0720DCGcfMTJkxQ3dR4/LFjx664oBnpQvEZNmyYcnUJgiVY4gJl9vfBszWo17QhwNMZCxIDVXVbYWjB+xZ7BPG+xAmxpYhoaOFJ5VZaWqrcUBUVFar5EhVab02w4RI7+bFHOAWBQkPrwxjpES7YC82tbdh0ulyF2ob6uGJChLesZwxB6EZnj/DExETpEW4tKADjxo3D6tWrVY9wCgRv+ixLTZOO7isKwKJFi7Bhwwa8/fbbSlBGjRp1hUXC96K1wc2UtSIIfcWRc3VILewI6AjzdkVCsId6LAwteE/iPY33JOb+WIrc1XRcffXVWLx4MebMmYNly5apBe+oqChMmzZNnWie9BkzZqj+4dzHXuEjRoxQX4gg2AJav7Gxsb22WD87WoKqxhY4a8coE/p83CTUVrAcEQ0dDKPlegUjqCgGtBLYE5wmHUWD4kAhoUXCjX3CGXYrCLaCExX2rO9N7Sm6VLdnl6OtrR2uLg6YMZxZ4LoXBcECRDR0UBQoDnqB0O8zdDEZHiOuJ8HWcJxxAtObxcv8yibkVTRCqxmYGOmDceGWL4AKApE7nyDYKZyY0DVFN1VPYYHCqqaOhL7ZI/wR6i1VbQXrIKIhCHYKXUy9qXFW19yKnWcq0dzSplxSY4d5wV2q2gpWQkaSINgpjY2NqgrBhQsXdHvMo6JBg+3ZlVqxASJ8XJEc6gknnctVECxFREMQ7BRaGdnZ2VfUQeuOioYWZOiq2iYEe2JEkARsCNZDREMQ7BS6pVjh1lTF5c5gIt/+/BpUN7XAxckBVycFwE+q2gpWRERDEOwYlqnpyZqGprUdm06VK9eUq5Mj5scHwFFcU4IVEdEQhEFEVmkDjpzr6PPi7eaEUdJwSbAyIhqCMIg4WFCNCzUdVW1vGBUMX8kCF6yMiIYg2ClMJvX09DQ7T4PrGZnF9ahtaoWTowPunjxMrWsIgjUR0RAEO4XVSefOnatK3JhDaZ1GlUJnSfT4IHekhHmqPA1BsCYiGjpYDp2NStg86ezZs50uPjKShV39srKyehTVIgg9hWVEWG3Z3DIiZysbcVhX1TYpxFN6gQs2QURDx7Zt21T/7+LiYnz11Veqr4Yp2Oh/zZo12LJli8l+GoJgLVhGhIJhTp0zznH25FWjvL5FNVpiGXRGTwmCtZFRpYMN/FnlluXP2Svj9OnTV1gbFJJdu3apyqNs5WpJG05BMAdzQ265nrE1s0L9DPJyweKkQHFNCTZBREMLmyw1NTWpiqKRkZGqO19+fr7u1Q7oiqIlQsaMGaN+moLWB7v9nT9/XiVmCUJvYRmRdevWKeu2O4prm5FeVAfqRLivK2YO9+94QRjy8P5WVFSkxlFPqwuYQkRDi34mpy+LTneA8XoF6/+wix/bwJaXlytrpKqq6opZIIUiMzNTlX/gMYLQW1hGJCcnx6wLfZPWyijVCgfH75w4f/h7yHqG0AEnxHl5eeq+xHuXpYhoaGFIIy+2yspKNbvjzZ59wGk1VFdXK2GgGNBVQLVOS0tTlgS/CGPRYIgk28AmJSUpi0UQegvHFoWjO1pa2/FVRhlqmltViO3cEWJlCJdwd3dXXhTel4KDg3V7e4+IhhZaFmyryYqiXASnMsfHx6tZ3tatW5V5RxFZsWIFpkyZotY0QkNDlSuLYmMIu60xRJKvM2RSECzBnHUzhtqmX6hV4hHm46IipwRBDyfFFAvew3rbOtgQEQ0dS5cuRXJyshKCJUuWICgoCAEBASrkkW4rRrEkJCQoxWa719tvvx3h4eFXiIYg9CU0dHMrGnC+piOSb2q0HyL8XNVjQbAFg040aNL3tMgboaUxceJE1SOcloRenWnSUTQIBYIbBWTs2LG96qgmCNakWWtd7MqtQo2uqu3UGF/4e0iXPsF2DCrRoFupoKAAq1evViG09fX1ule6h8JA35+Hh4dyMen3ubpeOWujcHC/WBlCf9PY0ooNJ8uVayrQ0xmTonxUnoYg2IoBLxqMcjpx4gQ+/vhj/Otf/1JrEunp6dixYwdWrVqFv//97zh06JBa4BaEgQQnMddcc41yg3ZGSW0zDp2tVo9HBHoiRaraCjZmwIsGrYnc3Fw182f+xJw5c9R6Ay82upu4NsEFbUZGCcJAghZvYmIifHx8dHsuhx7Y/fnVqGps0Zq/wNhwLwR7i2tKsC0DXjQoFlxfoFhMmjQJKSkpKtyVGx/PmjULU6dO7fTCEwR7he5PhnDr19SMaWxtw9bTzAKnZjhgXry/uKYEmzMoRIMRT4GBgWo9Y+PGjVi/fj2++eYbbNiwAcePH0dUVJS6+ARhIMFgjq4COnLLG3GwoCPxL9LPDZOiZWIk2J4BLxr6iCbmUnz55ZeqhAeT6vz9/dVGC0N/jCAMJBjYwcKYrEZgiqySeuRVdjRcWpgQgDBvyQsSbM+AFw09+ppPCxYsUGsZ+o0hsyIYwkCE2eAsnMlyNcawZ0ZmaT1qGlvg5uyIJSMD4eU6aC5nwY4ZNKOMi4Z+fn4qR4PWBXMpuIlbShio0DWlL19jTF1zK77Lq0arVjwCPZwxZpgXnKUUutAHDJpRRmuCF9gLL7yAP/3pT/jzn/+stnfeeafHiX6CYA9w3HbW6Cu/ohE7sjsiAsN93RDt564q3AqCrRlUojFt2jQVMRUSEnJxYykQQRhMcA60O6dKlUNntNT4SK1V7W46wkoQrM2AFw3OxLgxLJFhtywqeNNNN2HZsmVq4xqH/hhBGAy0a//bnVul/RfwcHHEoqRAOEmordBHDHjRYHIfW7WybAhrQTFyimsb/MmKjixhzvDbsrIy3W+YhpEqrDfPEF1TC4/0K7MV7NGjR9XGHgfi9hJsCa1nToaMAzmKazU4VdJRImd4oDvmDPcT15TQZ/SRaNSh4HiB9l/rwzwNigTLhzz55JN49tln8Ze//EWtazz11FN499131SJ5dwviu3fvVnkde/fuxeeff65ExBD22GBJktTUVCVSn376aad9xAXBGrCMyLXXXouIiAjdng7SCmtwobpJKybATK1gDPOVUFuh7+gb0dBk4ouHNiNX99SasGcF1zGuv/56zJs3T9Xp4eyMlgbXOG688UaVEd5dHXmKBavb8ncYumvc7pX/n7lz52LmzJlqY30r9gkXBFvBcTx8+PDLxq6mtR2bTpcra4PWxYxYP1XdVhD6im5Eow6F6cdx3KLtO2x483W8tL0QHWXVrA+tCOZkzJ8/X93YWTpkxowZqrwI+19wMbyrXA3Gw9MlpS+LTsuF7VoN3U8UjenTp6ueGmyyROvFVHkHvhdbKlZUVKjcEUHoLRyzHHdsEqanuqkFB/Nr0NTShlAfVySHSUi50DVcz+X9jS56RphaioP2xtiFY74Qnz/6fbyQqnvaK5pRnZeJ1NxHsaf9t5ih22ttuOZAF9WZM2fUTV8Ps8K5MN6VaPDm/rvf/U65tzir+7//+z8lNMuXL7/i97hG8sUXXyiLhkURWUrdkO9///u47rrr1Puwyx9LnAiCtThT3oC5rxxGYVUT5icE4IPvpyBC3FNCF7BY6759+5Rw7NmzR93rLGn72o2l4Y+EKCds374dJ86VoayiN1sNiiu7XoS2Bix9fuDAAeWq4s1av7HybVeCQWgxUDu5RkFLge9F0aBCU1D4Gje6o7juwcq5tGboczaGYsHOfvz/GoqXIPQUrqt99913F4M4OL3LuFCH8noN3JwdMDvODyFe0qVP6BpObEeOHIkJEyYoL4mldGNpAJqcf+L2X5zC3Y8sRUAvqy43nP4MT/04FC/Y0NLgDf+5557DY489dkVuhqF53xlcQOdaBU/qZ599hrvuukuJTV5entpP8Xj//fdRXV2NRYsWKaVmH3AuxBvyyCOP4Pnnn5f+4ILFMELvvffeUxYtS6S3tbXj0S9P49XdhfB3d8YHd43GkuRA3dGC0D1vvPGGSkuwxNJw+r0W3WOTOPlGwFPjgoW3LEZS7HAM78WWkByC5vw2jFo+FiG697U21L6dO3ciKytLLWQzfPbUqVPqMft8d2dtcF2EFymtDLqUuLbBiCnu43O6v1gHiIJEy4RrFkweNBYHhvfyIpdWsIKl0NJgVB8Fg2Mtv7IJT2/MVY2XgrUWxpPXxMHLVZL6BPM5ePCg8sZYUl6p+ym4UyjmXHMVrnTEmEfdhRwUO43C8icWIEa3zxZQFBgxlZGRofx39N1xO3LkiO6IruGiORfTeUK54E0xoNWh7wXO54sXL1YL7cnJyWozXs8QBFuyJ7cKZ6satYMdGB/hrRUOabgk9D3di4YW//Bw9HZ4unprkPr+RtTEhsOWjSh5Y2d47Y9+9COsXLny4rZkyZJurQxCUaC7iULBQoeEaxZcl+Dv07oYNmyYipnnxoVwfS9xQegL2KWvUcPihQ5YnBQISQIX+gOzRKM7NHV1ak3B5FZdgawdT+H/fXwcGt3x1oT/D/YcYIQAI6eOHTt2MWubG11U3SzbCILdU9HQguMX6lRV27hAd0wfLkEWQv9gmWg0ZmLNH36KO+++G3d3sv3Hjx/H/207hq/+uAvZul+zJoxwomBwoZo/WerDcGPOhCAMVGjlcmNV25NFdare1JRoH8T4S6CF0D90Gz3VFblr7sOyn76PY8WNuj2mCU0cjQmLX8E/X52PcN0+a0GxOHv2rMrHKC0tvSJ5hS4mhpv1FRI9JVgLfchtYvJIrM1pwUOfnVLNl55eMgK/WhCrwm4FoSdYI3rKAtEoxmf3jMSfXX6LnyyOhCfqceDNV1B786+xwCAUWHNsNVa73obf/+AGTBjuBWvHejAEdtWqVZ22xGTUyQMPPGDWuoY1ENEQrAWtaEbpuXr54N7Vp/Hp0WL4uDvh/TtH48bRwVKkUOgx1hANC9xThcjZNBP3/vI+3HX77bj99rtw/8rxqAydrn3M5x3bnQ8/iNlFmWj0sr5gEC5Qc/E6KirK5MbFa0EYiDC/iBZ0nYaRUx0Nl4I8XVTklAiG0F9YIBqNaLwwFqOTfNGR3uaKuGvnw+vddUg38FY5DZuO8S5v41cfpWltEevDsFf2zLj55ptVfgTzKxjdxMeMnOpL15QgWBMVtefsjIwL9SiqadY+76hqG+YtWeBC/2GBaIQics4O7Dt8SQpco5fi+ym78fKXpw0ipepQW3EWe1/egxzdHmvC2RjDYgMDA1XkFJNXduzYoUx7JrDwsakey4Jg72g0GtXf5cvDuWhr1451rWosSQ6SqrZCv2KBaERixm3BWP3YPbjzzjvxwN92o9gpDNN/NAeNrzyIR1/8AF+tW423nvklnt+sPby5FpbXV+wcLhpSMK666ip1sXFBnKLBarVcLBeEgQbH9JqNO/B1Wsd0K8DdGVOifbUTJRENof+wQDTcEXfz41gReRLfrFqFf67LAL2uXsm34mc3BGDP357B7558Gv/zysfYf94fM/9jLuI7ftEm0LJgFz8WC/Tx8VG5GSw+yP2CMBChhXziQg3yqlrU86uifBDu6yrrGUK/YoFoAK6RU3Hv717C3//+Nt741TyoJWfnMEy690n86fFbMXnkBExfeDd+9beX8fy9E3B5GUHrwsKBzOT+8MMPVQlgljBfvXq1qkhrXFRQEAYETi5oDoqHxtVHrWewF7jUmhL6G4tEQzuqETx6IW65+x7ctTQJvvq9waNxzQ8fxm9+9wSe+N1v8Isfr8TMmN5WrzIPlvRga0xmiHOGdujQIZXsx32mmiX1Br4vy6MzL4SFDQXBlrQ6OKHWO0o7EXNVUVPTYnxkPUPodywUDR3aQd1Wmov0jEJdhJQGJUUtCE8YiZGj4hHhY/uZPv2/zABnwyWWNV+4cCGWLVum+lpYA32VW1ax3b9/PzZv3qzcYYJgKxpbgKyqjlpT0f7uSAiSLn1C/2OxaGjO7cGHzz2Ie+77GX7+8y26PuCO8GjLx8ZXf48Xvjptk1BbY3hTT01NVe4oVqvlFh8fbzXXFBfWKRSMm2ep6rS0NNVrw4KEekHokrRzNSiq0SjrYlqsL0Ik1FawAywqI4KSPXj5sV/j9U2HcaKIsVHPXGrp2lCEE4c24YvVa5Gd8nM899OZNuulQRgx9fTTTyM6OlqJhT4DnJ30pk6danFGON1STz31FB5//HFV4faFF17AqFGjrnB/PfTQQ6qhE/9/ubm5VzSA4n7256D4EC7WM5ud6zCmvgomLjJ7k7/HRX0KlSkLh58hNjb2sjr5PI6fgYJqDI/j8frPTkuNx/I8GsPs9uHDh1+s6ss+I50JJteVYmJiLvu7eSz7khhjfCzfj2tRndUL43lnaDXPBY/Nz883+b58PyZ2slQ+4XkrLCxU1QOM4XtxzOiPJXQ98lzwuzHG+FzwPfk5TMGxx+9aP3Ghu5R/n6ngDP7/eaz++2jT/n2Pr8vGCzvPai/SNvw8pQ13Tw7Xfl71sspF4rkgfD++r6kxxPdjgivHG/9W/k08F6bOG4/ludBXeSYcQ/z+TH1mngv24Nd/Zp4LjmVT0Yo8luPN8Fzwc5gaQ8Zjk9AlzL/PFPzM+i6Z3Y0h/bXHc8Hrgv12+FmM4escQ/r35d/PY019Bo43vq9hp05OMjkuTF1PLG3Eca8/F7yeeKyp65RjiOONn4fw/8/zZupY4zHEc8Fj+ffxPsIAIbayZtJ1P5UR0SD97zfjhocOIOT672F+Uh0OPJeI5y7rzleL3PcexIzfZ+Mn/1iD38+znWzwy/nb3/6mLnY2StKfZJY7Z2kP/fPewgHDHuIUC15Ur776qhp8t91222UNl/iFzJs3Tw0kfibDgUS4n2HB7NtBeIPi+oupC5M3JrZoTEpKuvh+bGnLv9HUsRRHw4uNg2XTpk0m1194w5k/f74alIQXGvuQcAAbwvPGAcfuhfpji4qKVHMgrh8ZwxsU+5FwgOrh+9K1ZwwHLrsg6m/AvNnwXDBM2nhY8qYzadIk1VCL54IXDesysbKx8QXE95s8ebK6ofFY3igPHz6sKh4bw9f5eTnRIPqbzt69e68QZ54Ljqdp06Zd/F45LkwdSyhybDlseCzPm6nvg+eN76sXr9zyRtz1YbrqoeHr3I5fhp9BbGDHuiBvOkxi1Y8hnjeOC1NjiDcmWt36mzuP1Vd/NnXe9Ba64Rjatm2bSZHhd8wkWv1EhTd2nmdT4mw8LiguHBem3pfnmMcaXjv8+zqrWM1xz2uE349+DHU2Lngsb8L6cUHvhKn35TXN8ZaQkHDxWHoXTpw4oTviEjyW5409doh+DPHvM75G+Bk5Lvhd68WZ1xN7/xhfe4TX3pw5cy727uF5Y+4ZJ3nG8Lzx3qNvQ81zwTwf/o08nn8/z80zzzzTX6JxBm/OnoX3xj+NP/50MeJD0/HKsDQsM27pmvkW5ib/BGfuW4fUt663mbXBAcJufVRiQ4HgyWYjJUvhl8WG7H/84x+VC+zFF19UM5FbbrnlshnRvffeq3p68GLljU7/BerhZ+PvG84SacXw4jH+Kvi+PJYXD3+PfyOLMpqaUXJgcyDojyUcNLyQjW8khJ+Ns1X9DZsDlp/D1MyIYsHBqxdHzqJ4PkwdyxsIB69+FkW41mRqNsfPwFkiPzvRnwtTNx2eC9YR402Hfx//fh5rzrng6zxvrONkDF/n59XfoHgsL3R+ZlOWBv8+w46NFAte9OacC543Coep74PjlMfq33fN8VL87JOTKKptxsJ4P7y8wBtOuvwMfg+csJgzhngu+HkpRvoxxPPAmbjxsXxdf9703wnHED8zfxrDscPvTz8uOIZ4nk0dyzHEv08/3ngueN5MHWt8Loj++zP+zIR/n77Fc3fXk+EY4rlg/3VT44J/P689vVXC9+KxpiwY/XkzbDPd1fVEseDnMPdcUHANj+1sDPFew2ta/33wGF53HMv8PPwb1q1bpybRlogG36iXfNf+jMfy9jcza3TP97Q/g2e0/xpx5IV27S27HeF/bU/V7bIV2ou9XXvDuWzTnizdq5ahPfntWtFo184I1Ps+8cQT7fv372/XDjzdER08/PDD7dqZpO6ZIPSOZ7fktrv+amu74y+3tD+9MUe3VxAs4/XXX2/XipnuWe+43OHeI7RqOToOCdGX/J9XosHp/d8iiw+DXHU1qmwDVZXmIJWU29q1a/Haa6/hyy+/NDk76SmcNS5dulS5WbZv365qWhmunQiCtajXtOLYuVo0t7YjwtcN02IurbcIQn9jgWjEYMKyEmw/WKJ7fiX1mevw0is7VfmQ2MWjbNojnOYkTWV9/25GONFUy8nJucK32RtoHnItgr5Wvjd98TRdBcHalNZqkFrQ4esPcW5CuNuVLg5B6C8ssjRSls9FwzvP470dWSipb4byyLVqUF+ah4Nfv4TfPPI0/n2kHEhYgUfvukr7G7aDM37O/LlwzI0LU7QM6J825VfsDfQvcsGNokQfv97vKwjWglFT27MrUFDVSN8xnKvPw6n5ysViQegvLLrreScvw93XDcPx957AT+59FmvwCZ7+wX/g3vsfxC9/91f8c0MaShIW4T+ffBJ3jutYtLMVdE8xuuHbb79VGyM+GKnChUpxIQkDBfYA/+RYCRpb2uDQpoF7ZT7QcuUCqSD0F5ZNlZ1DMHbZnbhz5TIsSI7HVTcFo/RIGo6dzkGd/wTc9p9/xOv/+ywevWWs1szW/Y6NoGgwBJMZ219//bXasrKyVJ8NfeSBINg7zS3t2J1TCXpUvZ3bEetuy9rQgtBzLEvuu0grGkrykV9YgvOlVaqXhotPCKKi4hAT4QdX7URfU6+Bi6ftbt4UjfT0dBWOxthkWheM1ecahGHonq2Rdq+CJRw8W4MpLxxQj68Z7o6JZVtx98rlF3MyBMES+rndqyFO8AiJQ/KEqZi/aDEWa7f50yYgIbJDMIAsrPnRuo4oKhvB9QXGOZ88eVLFU3Oj5cHGTFbRRUGwMa1czzhzKWdgUWKAVLUV7A6riIamvh4l+RnIOGF6O7juHbzyUQY6j7OyHAoG1zKYNMPIpquvvlpFU61fv95kkpYg2Bvl9S3YndtRpsLX3Rnjo/yQmBB/WVkPQehvLHNP1edhyz9exj93n0N9bRlqO1mvay5Jx3eHH8AW42xxK8Ioqeeeew4PP/zwRdOL2ZDM4GbaPCOf+gJxTwm95dj5Wix/9xiyShowM9YP790xEl6tNSpDu6/GrzC46Wf3VD2OfPQEfvuXN/H+qlXYklqAggLTW2Z2oU1bvRKWamD6PGvfsPgXy2cwmor7+Bk6K7omCPYAp24FVU0oqGiCk4MD5sb7I8K/o4SECIZgT1hgaWTg9ZTJ+Fnztfj1L27ExOhwaMe4SRpO/RtPPRKPN2xoaTAX4w9/+IOq6shKj/yzWM+FhbpY5I7i8eijj14sumcrxNIQegOjpp7enINnN+XCx80J/7ozBTeNsWVdaGEoYg1LwyLReGXMaDw861Oce3E5wrtqzFe9Gf818xhuPf4oJut2WRtaEazmyMJmLEzGP4uZ4HzMSCoulM+ePfuyQnq2QERD6A0ldRpc82Yq0gprVemQ7Q9dhREB7qrwHkvYSNi4YA362T0Vg+m3TWL9564Fg/hOxJ3PLMII3VNbQHFgFjhLNXMRnIvh+sfs4scy4LYWDEHoLamFNcgubdROcICkUE8M83ZVVvKWLVtURWFBsBcsEA1vjL7r1/hJ6V4c7bbKQTmyP87W/mtbaE10tXUHrRWWEGb5YVMGGPexFwJnf50dIwi9YV9etcoC53rGjSlBcHN2Ui5XFsjkeBMEe8GikFvnsPl46NpIpH21D+fr61XJDlNbado3ePfDdJuG3FqKviELw3Y5u+NiurEoVFdXY+vWreqYDRs2qMV1EQ7BUuqa25BxoQ4tbW0I8HTGrWND4azrnSHjS7A3LBCNfGz6w2P40/sf4vU/PY4H778f93eyPfDLt7BT91u2hBeYvtkIxaon1W0ZYcXuWfQfM+fjk08+uSK/g5YILRb6A9mMheJirWKIwtAls6QOGUV12nELjBnmrTr00U0lCPaIBaLhpZ1678QHH32JfUe2Y80HH+CDTrZPthxHme63bAldRlzooWCsWbPGZD/fzmCLUYoMK+SyzePBgwfVoroh7PjFdpEskc4ILVNd8fgZ2BKSLSTFrSB0Byc4qYW1OFPWAOrEhAhJ5BOsC9fGeH/LyMi44p7WGywQjSBMW/E9jLv6Qbzyxjt4553Ot1d+dQs6OjDbFs76d+3apX6yDzJv4F1BkdBbI3Q9sdw5E6loSdDKMBYdRrCwxSajsehrHjdu3MXWinr4e3wvCoZYIUJ3NLa0Y39+NeqaW+Hl5oTRWktDEKyJfq2W9yVTLWV7ikVrGkGTluOmpbfgvh/fq3pjd7bd9+gPsWy0J+wpaJB9gdnV79///reqU0Uh0N/kOfvjxogsY3ji+Xt0Y82cOfMK0WAiFps0sZG/lH8QuqNWKxaHdQ2XIn3dMDnaRz0mdIWy77RE/QmWwPD/2NhYdV8y7GPeWywSDfiOxV03jUV3NdVcw2fivr8uRZzuuT3ACzEmJkbd3HlS2UT+/PnzykJgpVw2aadVwbUONmYnVOuvvvpKWSDM+TD1BVBE+Hvc5GIXuuNUcT3yKxu1AuGA8RHeSAy5lCHLMciQcWaFC0Jv4eSXXUZ5j7NGdQHLRAM+SEoM1T3uikqc/PiM9l/7gZnhzOuYNm2asggSEhLg6+uLjRs3quZNixcvVq4qrk/k5uaq36F1snPnTiUaLFfCKCophihYwtcny1Dd2KKdeDlgTrw/PF0uzcA4AeG4FItVsCe6F436UmSfzEZpve65Aaxuaxhaa3rT/v6Wj/DCO2nomK/bFn0+Rk+79YWGhqpkQLZz5UL3ddddpy5amnSslksoIrfddhvmzZunLmbuNyf/QxBMUdvUhk2nytHU0qZKoLNIoSDYO92UETmPrb//BV7Y3wCPqdqfv1+IcN0rDLn9+re/xap83dNOaUZV1iFs3vdDm1a5JVz4fv/993HPPfeokugLFy5UEU99iZQREczlyLlaLHojFaV1GkyN8cXXPx6PIK9LK3+8NLlwyQAMmZwI1qAPyog041zaBqz9Zi02pJ3TPjPECx4NB9VNuuttNdbuy7Z5lVvCG/VNN92k1hLmzp1r8+KEgtBb2rSCkHauBjVNHSHbs+P84O12+eIgqw/QXcq1NkGwF7oRjVDMfvRFvPTSS3jx0dnaZ4YEYfItt2Dswgfw0ptv4+23O99eeuJ7GKv7LVvC2RjdTHRNcZFaZmeCvdKgacOuM1Vobm1DkKeLVjT84ep0+XhlNB9bGPck30gQbI0ZVW5btSZyK5y0s/crgqSqD+Dpt8rw+GNL4drF/bm59Cs8OS8TK9JtV+XWXhD3lGAOxTXNmP/aYZworseUaB+8e0cKRoVdbhkzvPu1117DsmXLpEe4YBX6qMqtk3L3mIyq9R2DO5eN61IwiGvwdNzzlyV2FXIrCP0F52nZ5Q04U94IJ0cHXBXpg0i/7kpFC4J9YKH/xgMJSRG6x5ejqTfMhg5CyrUp2n9tCy9GtnilD1i/lZSUqP2CYC+0aofjRl3UlIuTI8aEe12xniEI9oqFotE5jecP4PO/f4iPdx9GflnflNNgbRXWuuIaDM0w/mTGt4iGYE9UNLSoUFvi4dJhaeiK2gqC3WMz0XDzD0XUiFC4nPwMTz30E9z/243oNjrXArhoyDDbUaNGqaY1ycnJKnWe5csFwZ44dr4WJ0s6Ep8mR/kiKdhTPTaGAR0SbivYGzYbja5BCZg8fy7mz5qDyPJP8fYrh2HL/mOs5Mie4HPmzFERVAy5XblypUrQk8KBgj1x/HydygIni5MC4et+ef0yPSwjwg6UUkZEsCdsPIVxhf/IRbjvjgVAdSsuLyJuXTgbY8QSZ2e82BiqyDUNfX8NQbAHaptaVe+MltZ2FWo7Z4Q/XJxNX4a0MsaOHasqEQiCvdAHdq8TosbPwUjdM1tBwaCVQfHg7Iyly3fs2KHqS0nhQMFeOFfdhMOFNeA0JjHEE4nBHnDqYj2D47mnJXEEwZb0ibPUKTAECbrHtoKVHFmqnBfZlClTlHuKP5cuXWq2T5gWCWvPm9Pxj8eIBSP0BGaBH7tQh5NaS4MyMCLIAz6duKb0cIzJOBPsiT4RDTg5oy/m+vpqoHRPsUHS5MmTER5+qVpWV1AEWM2WZRu2b9+uQnc7g+UdvvvuO+X+kgtaMBdNazt2Zleq0iFuzo6qd4ZLF2aGPiOcSX6CYC+YIRpn8PVPv9b+O7hhPsfmzZtV0cPCwkJ8/vnnJi0O7jtw4IDqIc6WriIagrmwZMihgg4BYF7GjFg/ZXF0BoM79u7da5UWnYJgLcwQjSKkvrkNOSZKo5tN996efodrIOyXoe8BvnXrVpSXd8TSG5Kfn4/U1FTlxmJNIGPRYH8NWil8TaK2BEOyyhpQUNkERwcHXBXlg5GhpkNt9XCCwq6SFA9B6C28V7G5HO9v9JJYipnuqa+xZsMpXJbkbS5tGlw4kYpU3VN7Qe8r1lsTnM0xtJEb8zvYC4Qn2ZC6ujrs378fEyZM6NTtxWitgwcPKmEx/n1haPPt6QqU1beo0iE3jAqGn0fX6xmCYA14Lzt27JjykNClbilmikY6Pvnjr/DQzx7AAw/0dPsZfvGnT5Gjeyd7gZbAN998gzVr1iiLguKhXzBntAo3Q/cUH9MaYfvXkJAQJSD8Pf40hFFcbM4UGRlpldaKwuCguqkFO89UaSderXDRisas4V27pgTBWjB6lJNhtrdmd1JLMaPK7V486zATT+ie9Z5nsMfGTZh6Am/2J0+eVE1uxowZoxa2ueh43333KffSz3/+c7zyyitqUZ0JghSDQ4cOKSuCVgazz6OionD33XcjLu5SKUapciuYgrkZt/z9GDJL61Wtqa0/vQoh3l2Hh0iVW8HaWKPKrdmi8T9JMzFr9AhExwbB/PlzA8ryzuJM+m7syfy1XYmGMTk5Ofjss88wYsQIJSjMLn/44YdVv3AmV9ElRXdTcXGxcmutWrVKubGWL1+OwMBA3buIaAimYYHCW989hrrmVtw7NQKvLE+CeydJfXroh37rrbdw/fXXY+RIW2c6CUOBPhSNX6L0g2dxR0oYgkN8Yf7tsAnVJaUoyliF334/GH+xY9GgxXHixAm1UERXFK2J4cOHqwgpWhsUCEOOHj2qTD3uN0y+EtEQTPHnrXn4r6+zEeDhjL8uS8QPJodrx43uxU7gmGQRTo4xNhUTBEvpQ9H4HNMb/oyre1vyv3ELfuOxDzfbsWgQngr96dCvb+ifG2fldrZfREMwBXuBbzldgdHDvPDR3WMwRvvTHDjOjMeYIPSWPmrCFIelr67EaEt6xLiPxspXl9p9EyZenBQLwwxy7jN10Xa2XxAM4dyCVW2PajeOljBvVwwPNN/BK2NMsDfMEI1hmPSzSdp/LcEa7yEIAw+t7YpPj5agqqEFzuzSF+UDr+5aXRqgt2gFwV4wf/QKgtBjWtrasTWrQv30cnPCwsQAs0NtmSialZWlwsMFwV4Q0RAEG8IM8DNlDdBqBsaGe2N0mHlrGYSZ4IzekzIigj0hoiEINoTrGeW6UgpzR/gj2MtFPTYHln9gF0opIyLYEyIagmAj6jVt2JtbhUbtT65n0Mpwd3HSvSoIAxMRDUGwEZUNLdhxpko1XIryc0NymGeXDZcEYSAgoiEINoBBT+zSd6K4ozbZKK2VER8ktciEgY+IhiDYAHbpO3i2GlWNLer5jOG+8HUbmlVtW5vrcOzQPuw7cEC7pSI79yxqaypRUlYBTav99E1orDyP9GNp2PntJhzNLlLhznVVZTh9Ih0HDuzHru3fYuehU9AwqmEII6IhCDagsaUNW06XK4uD/TPmjghAT/P0WCiTtdD0HSkHIvXlhfj4g/dx8PQFuLm6wsWxHWezjuOtt97Bqx9uxIUKy/s7WIX2ZuxLy0J9cxucq0/j1ZdeR7pW3I6ln0Cdpg2uri5wdazHP/73j9iRfk73S0MTM8qIDC30p6OrTFzDU2Z8nJQREcjx83VY8d4xZBbXI9LPDQcfnYIwn541PWb0FAtnsu7UQCyz31RTgo//+Ra2ZDbhJz/5ISYmRaKtVYOM7zbhid8+DceJd+DFJx9EfEh3zag02Prui1h3pEC3pyc4Ij5lEu754R3wc+l8jtxYdBzfpFVg5tQJ8Mj9DCnX/zd+9JuncN3C6UiOi4GnqxPaNeW4YcYkBK78K1Y9cfuAnHH3URmRoQGFgFVsWSKdxQhZLM4U7MZ3/Phx7Nq1S1XGNey5IQiEc4rUwhoU1zYr6+KmMcHwc++5a8rJyQkREREDUjDaNA04uG09/vXpNlw1ax6uSo5RfR3cPTzh5eEKR00dUhKGIci3+/pEDtr//MMiVeHG3mzDQoPh3I2Vl3skF+EBvvD38ULBiQzUNTXCzS8MoxLj4e/toT67q7sbWrX7zxScV8ENQxWxNHQw63bDhg1KPBgXHxYWhsWLF19Wh4qCQbE4e/asupBZEn3u3LlwcbkUey+WhlDb1Ipfr8vC2/vOwcXJAV/9eDzmxQfAsYfuqYFLO8rOnsLzTz6OLecC8eYrz2JiYkeny/a2Fuz7ehX+8/EX8eP//h/84NaFMCcIub29DS0trbpnPaGjnpyTU9fz42N7j8I3PBTRsaH4y52z8NJhT3y5+TNMjPbTHQE0FO7DmJR5mPX/PsK7v7nF7Mx+e0IsDSvCcg1nzpzB+PHjkZiYiM8//1y1bjWE/ZppiSQkJKimOPQ3czYoCIaU1jfjwNlqVTokyt8dI0O9eiUYdE/RmjXuDmnvtLe1IvfUMWzX3ohTJk1CeOilfjO0QPJys1HjGYnwyFizBIM4ODiqyVnPN+duBYPEjklEWEQwHDSl+Gb/aUSMnYekcMMud+1I370d5+rdsWDamAEpGNZiSIsGrQr9du7cOaW+FAIKAn3JFAlDSkpKlLjwWLqo8vLylPVhCFvAUnDWrVunjhOGHueqmnG6pF4tgI8b5tXrXuDs7cIyIhx3A4m2lkbkZJ9CdgUwYdRwBBh0KGysr0b2qXSEJSUgJta8Eqa0MorzTqtrrudbOs7k5ncb8eTr4wF3V2fU5B5C+vlKzFw8B56GPq3WenyzfifcYqZh5pgo3c6BAb0omzZtwqeffqr6A1nKkBUNzt5SU1Oxf/9+9ZhrGJ6ensqUZdQKN+N1DT6n9UHXFQVmy5YtqpOfIfw9uq24eEk/qDD0OHi2BlWNrfBwccSUGN9uO/R1Bi2NwsJC1NfX6/YMDNpaNKioKAW8hiEqJAxuFzMa21FTXoLjaaeRPCIGUUEeKC44haYW0+uHF9GKRsHJNGzbtq0X2w6kHc80O0z2yNZvUdHghatnjLzs5lh99ji2HTqFOTevRGyAO6pqq5F7rmhArG3wnsT7Ee9Z1lgfG9KWBl1L+jULnkz2ZOaF2tDQoH56eXkpS4LVRgnXKdjRb+rUqZg1a5Zqx0nLwhB28+M6B1+3xG8oDEw0re3Yxim2FloYCxIsW8sYiEuOHa4kV/j4BsPL2/+iK4d/y/nckzhWqEF0VCJ8nFtwdMchNDV0XVuLEYqBkcORlJTUiy0R0ZERqoxL92iwcWcq2oInYfzwIN0+0o6DO7Yjs8wNd61cBDeHFpRdyNWKRtWAcFPxPjZ58mTMmzcPMTExur29Z8iKBkWCfZfHjBmjLAxGWTB6ipbH3r171boGLQZaI5mZmep3KAKhoaE4dOiQOo5fBvuHC4KeI+dq1caoqUhfN7M79A0mnFzcERMbjxg/Z2V16KkrzcW6TTtQ5uIHv6jhaKkrxakGP7S1d+O+c3BCVNI4zJ49uxfbTIxLSYCLGaLR3nAeB07lY9TiG1SzrEu043DGaTiPmIwFYyK1IleP3Mxc7b1gaE4Kh6xo0MKg5UDx4GP2A6ca08rgc0YY8DXDPAyKCC0IurO4LViwAMOGSWsp4RKbM8tRVNMMJ+24mRTto+L7hxoOzq5ImTgD86YMR25uJi6UliEn4wj2HD6JESlXYXpKFDQN1Th2KAOxKfFw8+g+0tDZ1U1N7nqzubm5mmUR1BVkoKSmEcuXL4DbZXdGB8TFRCI6fjicNbVITzuCdq9IxEX4614fWjj9Xovu8ZCG6w8UAFoT0dHRyvKg+8rf31+JBSMx+JyWBp8zfj4+Pv4KH+E333yDa665RvkRhaFFc2s7Xt1doMqh+3o446FZ0RZZGgz9PnDgAJKTkxESEqLbOxBwgKePP8KGaWfi7S2orq4Ds5l8g8IxY9pkRAf7wrG9Ha7u3pgwOh5+3u524ebR1FeivM0X31t+PUIvszQcEBIUBG/m2rS1wsXNE/EjR8Hfa+CtWR48eFAF+lBMe8uQXtMwhu4mXpxB2gFCkdDvMxQGPuYx3Cw58cLgo7SuGdml9dBqB5KCPTEhwrLyH5ykREVFDcgyIo7Obhg1bjLmTJ+E6IhhGJ44EuNHJ8HbV2utX70YMyeNQsr4MQgO8LULwSCew0bjR/f9FCNDrzzfISPG4NalcxEaEoqklNEICxh4CZfWQkRDEKwA16szS+qRp6ulxC59EX6WJXjS+qVffmBZGZdwcHSCb0Cw1iIfjiC/SzdiV3cvREVHISTAx64SHh1cPBA5LKST8vUO8AkIQfyIWHi5m99IazAioiEIVoCJfN9mVapQWzdnR1UK3cvC9Qxau3STGrtABaE/EdEQBCvQ3NqGTZnlaNWKR6Cns9bS6F0WuDFdFc4UhP5AREMQLISZFEW1zcgoqlOPE0M8MdoKobbMFcrPz7+inI0g9CciGoJgIUxaO5BfjRpdw6XZcX5G0Te9gxUI9uzZM+DKiAiDGxENQbCQBk0b1p8sg75Sxew4fzMzkLuG1QhoaTB3SBDsBRENQbAQ9gI/VNDhQoryd0NisPVCsaVfi2BviGgIgoXklTeisKqjftLcEf4I8hzaIZnC4EZEQxAsgAUKTxTVobqxBZ4uTrhuVBC83aTHijB4EdEQBAuobW7F7twqlacR4u2CCRE+qlufIAxWRDQM4IIju/cVFBR06ktm+COr3rKjGmsDCUOb/IoG7MypUo9DfVwxzNd69YhYRmSg9ggXBi8iGjrY6GbHjh1IS0tTpdEPHz58RS8DCgYbL504cUKVRt++ffsVnfuEocXe3Gqcq2qCk6MDxod7w8fNeoUqWYV5xowZ0pdFsCtENHTk5ubiyJEjqkkJK9t+/PHHqt2mIaWlpUpU2COczZgoMsbHCEOLvXkdVoarkwOWjgy0SqitHlZKZvvhgViwUBi8iGjoYL9vHx8fjB49GhMmTFC9wI17hLOAHC9kduurrKxUF7O+858evrZmzRqsXbtWeoQPci7UNOFkcT1Y6SMuyAOz4vytXoCPLiopJSJYgr5H+CeffIKTJ0/q9vaeISsabOFKy6GoqEi5mOie0vf1ZslzXqzG5Rvc3d3V79HaYEc/ioyxaPA5xYSb9NQY3OzLq0Z+RaNWKBwwc7h1ssANoXuU41LfblgQegPvSbyn8X7F+5ulDFnR4CI2rQsufPMxK4pyIZwL4LxIudGnrIcXMEWGsz76mRcuXKjKOxiXeKBra9GiRaqrHxs2CYOTppY27M6pQlm9RlkaU6N9rW5lcFzu3LkTxcXFuj2C0HMoFuw4umTJEuXutJQhKxoUCd7UuTbBx4xS4cVJEcnIyEBYWJhqxkRzjuJCsWAtIG76Jkw1NTXquTHiThj8VDS0ILWwRuVphHi5ICXM+r3AOba4zkZXqCDYC0NWNGimsa0re4PTomDr1ri4OJw6dQpnz57FzTffrFxMFJKKigr1O2wHy2PS09NVBNWkSZPEmhiinK1swunSjppQLBsSH2ybsFgpIyLYG0NWNIyhW2nevHlITExUC+HsmEZfYFJSkhIXwjWPxYsXK6EZOXKkckPR9BOGHkfP16CsTqMaLk2P9UOw1toQhKGAiIYOupTokho1apQSCvYGJ7Qu6KYiXBxnSC4bs/M4Whniihp6MH1nW1alWtfwcXPCvATrVLUVhIGAiIYg9JDzNU3Yn1+tuvQFaS2MiZFibQpDBxENQegBtDL25VWhqKZZdekbF+5t9VBbPXSP6sPABcFeENEQhB5Al9S27ErUa1rV86sTA60eaquHARrTp0+XMiKCXSGiIQg9oLKxBYfOdoTaxvi7Y3K07VxTDAXn+pmfn59ujyD0PyIagtADGDGVVdrQkdAX46s69dkSCocEWwj2hIiGIJgJe2akFdagvF4Dd2dHzBzuC38P25WKYRUCVilobe1whQmCPSCiIQhmwvWMr0+UKfEI8HDBxCgfuDnZ7hJiRvihQ4euKJwpCP2JiIYgmEleRSN2nOko6UELIz7IUz22FSykefTo0YsVCQTBHhDREAQzUQ2Xqju6NdLKsHUWOEuIsMqtlBIR7AkRDUEwg7b2dhwuqNb+hOrSd01yYJ/0Ame1ZeMOkoLQn4ho9AD9zK+urk4u5CFGaZ0Gp0rqQZkYEeiBKSyFLqVDhCGIiIaZcMbHMunsEb5hwwZxGQwhOD04WVSP06X1oGrMivNDpJ+bEhBBGGqIaPQAWhe0Mr788ssuwyDFChlcNLe0Yf/ZalyobtYKhYMqHeLp0jeXDkuJSJ6GYE+IaJgJW7eybDqr27KDX2ewMdOePXvw3XffSajkIKGmqUV16WtubVdVbUeFeal1DVvDmlMzZ86Uni2CRXCie/jwYezatUv1CrIUEY1O0FsV7JrGdQzCi5gZul1BC4SN3LkxZFIY+FQ3tuL4hVrljmIG+Jhw63fpM4W+9pS+NL8g9Abek6qrq1XoNlsIW4qIRidQNE6fPo19+/apFrDmupzY7W/atGmYPHkyAgMDdXuFgUx6UR2Ka5vh7OSAOXH+GObTN1Vn6ZaihSsIlsDeQGwsR6s1MjJSt7f3iGh0Ai9YduXjLI9CQKjStbW1SrnphuLiuDG8yPk7FAwpaT3wYc+MzZkVaNC0qS59N40J6bOGS5yocMxJGRHBEtg8jp1JeV/y8LC8LbGIRidQNNg3fMqUKaq9Ky9cWh47d+5UYvDFF1+gvLxcd7QwWGEy3/78KrS0tsPL1UmF2vYVLCOyf/9+WRsT7AoRDTOhiLi7u6vF8B/84Aeqx4G4DgY/aedqkVveqMJux4Z7Icir775zWrLp6elqXU0Q7AURDTOhiZeQkIBly5Zh+fLl6qesWQxu6B5ifgar2jJaakly3y5IMxeosbFRcoIEu0JEw0Ywcqqr0FzB/mlqbddaGjUq1JaL39Ni+rYZEkWLUS/WiHgRhi5ch2UkqLUQ0bARdClw/UMYuLDh0v78avU4MdgT8UGWLyL2FE48xD0lWEJ2draKALUWIho2gO4EzhDT0tLUbFG2gbe1ar/DvblVKKxqUq6puEB3BHk6mzzWlhtj6zmWTL0mm2zmbAUFBSgsLLz43FIctG8iNS+syGOPPYYFCxaoi52WBtc/hIEHq9muznXG2nztYwdHLB9WgxWJbujLih7s2vePf/xDJfhNnDhRt1cQegYnryxHM27cOBw8eBAPPfQQAgICdK/2HBENK7N582ZlaTDyhb5ExkcLAxEHnHcMQnG7D4rrWzDRvQxBDh2VAfoKjqOioiL4+vqqBC1B6A2cfBDmaPB2P3/+fFVtoLeIaAhCF2ha21FWr0GotyukErogiGgIgiAIPUAWwgVBEASzEdEQBEEQzEbcUzaCyTTM5iUsN8Lih4xgEARz4GXJBUzmaHDRktUHpBmT0FOM70MsvsrqFpYgomEjGG6bl5enIl+4sVy6NSpMCkMDXuxbt25VjykeU6dOVYUzBcFceGvfvXu3ug9x0sr70KRJk9RjS5Cpr43IyMhQSTUUCn5ZYmUIPeH48eOqWCG79jH0li2GTZXiF4TOoGhwDLFbH4utWus+JHcyG8Gy1pwtsnw661CJaAg9gQlZMTExKqmPzXNYIp15P4LQE3jvYedRfdc+a1TmljuZFaCi0/eck5ODc+fOqeejR49WZdQpHlu2bMGFCxd0RwtC13D8sHRISEiI8j/TncBxpPdNC4I5cA2M96GkpCRlrW7fvl15QCxFRMMK8CIvLi7GsWPHkJWVpRo2cQ1jxYoVuOGGG5S6nz9/Xne0IHQPG33pM3nplqKlKv1bhJ5A0WATOX0rBwZUHD16VPdq7xHRsBIsF8KFyoiICHWB0xzkRU+XAi96zhgpLoLQHbzYOZZYmZRlRE6dOqVcVfq2w4JgLuz6SDe5/j7EyYil9yGJnrIRmzZtUqJBPyLLW1Ptw8LCdK8KQtcwiGL9+vWqQ2RVVRVGjBiB2bNnS9itYDa8tW/YsOFin3l6Q1h3auTIkbojeoeIho2g75Aqz4s8MjISsbGxshgumA0vy9zcXLVG5unpqXzTnCUKgrlwDPE+RK8HH+vvQ5KnYcfoT63MDoXeImNIsBRrjyERDUEQBMFsxF8iCIIgmI2IhiAIgmA2IhqCIAiC2YhoCIIgCGYjC+GCYGcwpp65PQyxZbgkQySZNOri4qI7QhD6DxENQbAzmMG7evVqldjHmkEsepmcnKwKFwpCfyPuKUGwM1iccM+ePaipqUFcXJwqa/3FF1+ozF5B6G9ENATBzqDxT9fUuHHjMHbsWFX8knWo9AUMBaE/EdEQBDvEy8tLbczi5U+uc3AThP5GREMQBEEwGxENQbAzGCWVkpKiChUS9kFgXwQpWCjYAxI9JQh2BvsesIw1o6coFHzOPs/R0dHSiEnod0Q0BEEQBLMR95QgCIJgNiIagiAIgpkA/x9nGIvl7y6auwAAAABJRU5ErkJggg==)"
      ],
      "metadata": {
        "id": "2Wlf78Xr42Mw"
      }
    },
    {
      "cell_type": "markdown",
      "source": [
        "Y siendo un problema de clasificación de vinos, para la Función de Costo se realizará Log-loss, informándonos de los outputs asignados a una clasificación correcta"
      ],
      "metadata": {
        "id": "ZzulG43YyMx-"
      }
    },
    {
      "cell_type": "code",
      "source": [
        "len(input.columns)"
      ],
      "metadata": {
        "id": "QJfRGR3XM4yK",
        "outputId": "38ee3ce6-5220-4f92-ab63-996d5e67e83f",
        "colab": {
          "base_uri": "https://localhost:8080/"
        }
      },
      "execution_count": 7,
      "outputs": [
        {
          "output_type": "execute_result",
          "data": {
            "text/plain": [
              "13"
            ]
          },
          "metadata": {},
          "execution_count": 7
        }
      ]
    },
    {
      "cell_type": "markdown",
      "source": [
        "Contamos con 13 diferentes inputs, así que en nuestra capa de entrada contaremos con 13 neuronas"
      ],
      "metadata": {
        "id": "z4fiAw-MMvp6"
      }
    },
    {
      "cell_type": "code",
      "source": [
        "output.unique()"
      ],
      "metadata": {
        "id": "fjtajof-a2By",
        "outputId": "9670557a-b59e-4577-986d-9ae00f850d6c",
        "colab": {
          "base_uri": "https://localhost:8080/"
        }
      },
      "execution_count": 5,
      "outputs": [
        {
          "output_type": "execute_result",
          "data": {
            "text/plain": [
              "array([1, 2, 3])"
            ]
          },
          "metadata": {},
          "execution_count": 5
        }
      ]
    },
    {
      "cell_type": "markdown",
      "source": [
        "Existen 3 posibles clasificaciones para el vino (clasificación multi-clase), por lo cual en nuestra capa de salida contaremos con 3 neuronas"
      ],
      "metadata": {
        "id": "Uwf_17L_L-rT"
      }
    },
    {
      "cell_type": "markdown",
      "source": [
        "Para las capas ocultas comenzaremos probando con 1 capa de 4 neuronas"
      ],
      "metadata": {
        "id": "ClZRzzo-NZD7"
      }
    }
  ]
}